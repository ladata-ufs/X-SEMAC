{
  "cells": [
    {
      "cell_type": "markdown",
      "metadata": {
        "id": "Qgdljyh15D8c"
      },
      "source": [
        "<p>\n",
        "    <img src=https://github.com/ladata-ufs/IX-SEMAC/blob/main/id%20visual/logotipo-extenso-fundo-cinza.png?raw=true alt=ladata width=400/>\n",
        "</p>\n",
        "\n",
        "# **Ciência de Dados para Sistemas Embarcados: Dos Sensores análises**\n",
        "\n",
        "\n",
        "#### **Objetivos**: Este projeto, visa explicitar como a Ciência de Dados pode estar diretamente ligada ao uso de Sistemas Embarcados. Para isso foram utilizados os seguintes materiais para a realização do mesmo:\n",
        "\n",
        "*   Arduino UNO\n",
        "*   DHT11 Humidity and Temperature sensor\n",
        "*   Jumpers\n",
        "\n",
        "\n",
        "\n",
        "\n"
      ]
    },
    {
      "cell_type": "markdown",
      "metadata": {
        "id": "qs5LWaMNAfOH"
      },
      "source": [
        "#### ✅ **Coletando os dados:**\n",
        "\n",
        "Para fazer a coleta dos dados do sensor, utilizaremos o seguinte código no arduino"
      ]
    },
    {
      "cell_type": "code",
      "source": [
        "#include \"dht.h\" //INCLUSÃO DE BIBLIOTECA\n",
        "\n",
        "#define pinoDHT11 A2//PINO ANALÓGICO UTILIZADO PELO DHT11\n",
        "\n",
        "dht DHT; //VARIÁVEL DO TIPO DHT\n",
        "\n",
        "void setup(){\n",
        "  Serial.begin(9600); //INICIALIZA A SERIAL\n",
        "  delay(2000); //INTERVALO DE 2 SEGUNDO ANTES DE INICIAR\n",
        "}\n",
        "\n",
        "void loop(){\n",
        "  DHT.read11(pinoDHT11); //LÊ AS INFORMAÇÕES DO SENSOR\n",
        "  Serial.print(DHT.humidity, 0); //IMPRIME NA SERIAL O VALOR DE UMIDADE MEDIDO\n",
        "  Seriel.print(\",\");\n",
        "  Serial.println(DHT.temperature, 0); //IMPRIME NA SERIAL O VALOR DE UMIDADE MEDIDO E REMOVE A PARTE DECIMAL\n",
        "  delay(2000); //INTERVALO DE 2 SEGUNDOS * NÃO DIMINUIR ESSE VALOR\n",
        "}"
      ],
      "metadata": {
        "id": "zMcP9WWABJrL"
      },
      "execution_count": null,
      "outputs": []
    },
    {
      "cell_type": "markdown",
      "metadata": {
        "id": "6cRn4jvAHwdU"
      },
      "source": [
        "#### ⏏ **Recebendo os dados:**\n",
        "\n",
        "Após o código do arduino, é necessário um código para receber esses dados para o computador. Assim, será utilizado um código em python para receber os dados por comunicação serial"
      ]
    },
    {
      "cell_type": "markdown",
      "metadata": {
        "id": "xxjqS97z5D8d"
      },
      "source": [
        "#### 🔽 **Bibliotecas Utilizadas:**\n",
        "\n",
        "Para esse projeto, as principais bibliotecas necessárias foram: [PySerial](https://pythonhosted.org/pyserial/), [Pandas](https://pandas.pydata.org) e [Time](https://docs.python.org/3/library/time.html)"
      ]
    },
    {
      "cell_type": "code",
      "source": [
        "# Importação das bibliotecas utilizadas\n",
        "import serial as ard\n",
        "import pandas as pd\n",
        "import time"
      ],
      "metadata": {
        "id": "l3sT37rVIl4x"
      },
      "execution_count": null,
      "outputs": []
    },
    {
      "cell_type": "markdown",
      "metadata": {
        "id": "KxYUfAuEIsqk"
      },
      "source": [
        "#### ⛽ **Definindo funções:**\n",
        "\n",
        "Definição de funções que serão utilizadas para ler os dados"
      ]
    },
    {
      "cell_type": "code",
      "source": [
        "def read_data(temperatura, umidade):\n",
        "    global arduino\n",
        "    dados = arduino.readline().decode('utf-8').strip().split(',')\n",
        "    dados_umidade = dados[0]\n",
        "    dados_temperatura = dados[1]\n",
        "    print(f\"Dados recebidos: {dados_umidade}, {dados_temperatura}\")\n",
        "    umidade.append(dados_umidade)\n",
        "    temperatura.append(dados_temperatura)"
      ],
      "metadata": {
        "id": "7h3xLk22JHpf"
      },
      "execution_count": null,
      "outputs": []
    },
    {
      "cell_type": "markdown",
      "metadata": {
        "id": "8F5_1_2-Jhq2"
      },
      "source": [
        "#### ▶ **Inicializando variáveis:**\n",
        "\n",
        "Inicializando as variáveis que serão utilizadas, sendo elas as listas que armazenarão os valores lidos pelo sensor, a variável de contador e de valor máximo para controlar o número de vezes que os dados serão lidos em cada lista"
      ]
    },
    {
      "cell_type": "code",
      "source": [
        "# Conecta ao serial pela porta utilizada pelo arduino\n",
        "arduino = ard.Serial('COM9', 9600) # Alterar para o relativo ao seu computador\n",
        "\n",
        "contador = 1 # contador para controlar o número de leituras\n",
        "MAX_VALUE = 150 # número máximo de leituras dos dados\n",
        "# listas que armazenarão os valores lidos, relativos para cada volume de água\n",
        "lista_temperatura = []\n",
        "lista_umidade = []"
      ],
      "metadata": {
        "id": "-NNZiJoNKlGS"
      },
      "execution_count": null,
      "outputs": []
    },
    {
      "cell_type": "markdown",
      "metadata": {
        "id": "gK1onOPtKsse"
      },
      "source": [
        "#### 🔄 **Recebendo os dados:**\n",
        "\n",
        "O código que receberá e armazenará os valores lidos pelo **sensor**"
      ]
    },
    {
      "cell_type": "code",
      "source": [
        "# Leitura de dados, com o volume de 50mL\n",
        "while contador <= MAX_VALUE:\n",
        "    read_data(lista_temperatura, lista_umidade)\n",
        "    contador += 1"
      ],
      "metadata": {
        "id": "-aVoj6WrK5vO"
      },
      "execution_count": null,
      "outputs": []
    },
    {
      "cell_type": "markdown",
      "metadata": {
        "id": "UlcGnHWFLCx-"
      },
      "source": [
        "#### ❗ **Exportando os dados:**\n",
        "\n",
        "O código responsável por criar o dataframe a partir das listas com os dados e exportar este para um csv, possibilitando a futura análise"
      ]
    },
    {
      "cell_type": "code",
      "source": [
        "# Cria o dataframe utilizando as listas, para que possamos analisar esses dados\n",
        "df = pd.DataFrame({'Temperatura': lista_temperatura, 'Umidade': lista_umidade})\n",
        "# Exporta para csv o arquivo gerado com os dados\n",
        "df.to_csv('dados_arduino.csv', index=False)\n",
        "\n",
        "print(df)"
      ],
      "metadata": {
        "id": "hxIa9NhdLkTy"
      },
      "execution_count": null,
      "outputs": []
    },
    {
      "cell_type": "markdown",
      "metadata": {
        "id": "V8JaQTFIINRq"
      },
      "source": [
        "#### 🔽 **Bibliotecas Utilizadas:**\n",
        "\n",
        "Para esse projeto, as principais bibliotecas necessárias foram: [Pandas](https://pandas.pydata.org), [NumPy](https://numpy.org), [MatplotLib](https://matplotlib.org) e [Seaborn](https://seaborn.pydata.org/)\n"
      ]
    },
    {
      "cell_type": "code",
      "execution_count": null,
      "metadata": {
        "id": "H5mK78Pg5D8e"
      },
      "outputs": [],
      "source": [
        "import pandas as pd\n",
        "import numpy as np\n",
        "import matplotlib.pyplot as plt\n",
        "import seaborn as sns"
      ]
    },
    {
      "cell_type": "markdown",
      "metadata": {
        "id": "dTT-0IL-5D8e"
      },
      "source": [
        "### 🛠 **Tratamento**\n",
        "\n",
        "Responsável pela parte da importação, limpeza e geração de objetos de análise."
      ]
    },
    {
      "cell_type": "code",
      "execution_count": null,
      "metadata": {
        "id": "CDWiwDq15D8f"
      },
      "outputs": [],
      "source": [
        "bd = pd.read_csv('/content/dados_arduino.csv')\n",
        "bd = bd.dropna()"
      ]
    },
    {
      "cell_type": "markdown",
      "metadata": {
        "id": "8bX4gpH35D8f"
      },
      "source": [
        "### 🤔 **Análise e Metodologia**\n",
        "\n",
        "Análise dos dados limpos para a análise com o objetivo de entender melhor como estava o ambiente de teste\n",
        "\n",
        "A **Metodologia** é baseada em: gerar gráficos para visualizar o comportamento da mudança de temperatura e umidade , ou , criar um modelo que possibilite prever os possíveis problemas de ambientes que precisam de monitoramento"
      ]
    },
    {
      "cell_type": "code",
      "execution_count": null,
      "metadata": {
        "id": "5G5-HlHY5D8f"
      },
      "outputs": [],
      "source": [
        "def get_extremes(bd):\n",
        "    max = bd.max()\n",
        "    min = bd.min()\n",
        "    return max, min\n",
        "\n",
        "def get_medians(bd):\n",
        "    mean = bd.mean()\n",
        "    median = bd.median()\n",
        "    return mean, median\n",
        "\n",
        "def get_stds(bd):\n",
        "    std = bd.std()\n",
        "    return std"
      ]
    },
    {
      "cell_type": "markdown",
      "metadata": {
        "id": "wMJP0EbD5D8g"
      },
      "source": [
        "### 📈 **Resultados**\n",
        "\n",
        "Obtendo os dados, podemos ver como ficou a evolução da temperatura e da umidade em relação ao tempo e também ver como esses dados se repetem"
      ]
    },
    {
      "cell_type": "code",
      "source": [
        "temps = bd['Temperatura']\n",
        "umids = bd['Umidade']\n",
        "\n",
        "max_temp, min_temp = get_extremes(temps)\n",
        "max_umid, min_umid = get_extremes(umids)\n",
        "\n",
        "mean_temp, median_temp = get_medians(temps)\n",
        "mean_umid, median_umid = get_medians(umids)\n",
        "\n",
        "std_temp = get_stds(temps)\n",
        "std_umid = get_stds(umids)\n",
        "\n",
        "print(f\"Temperatura máxima: {max_temp}\")\n",
        "print(f\"Temperatura mínima: {min_temp}\")\n",
        "\n",
        "print(f\"Umidade máxima: {max_umid}\")\n",
        "print(f\"Umidade mínima: {min_umid}\")\n",
        "\n",
        "print(f\"Temperatura média: {mean_temp:.2f}\")\n",
        "print(f\"Temperatura mediana: {median_temp:.2f}\")\n",
        "\n",
        "print(f\"Umidade média: {mean_umid:.2f}\")\n",
        "print(f\"Umidade mediana: {median_umid:.2f}\")"
      ],
      "metadata": {
        "id": "EeJFXA3LzUQe",
        "outputId": "1765fdee-8a57-4ae3-9339-b1062eb677ad",
        "colab": {
          "base_uri": "https://localhost:8080/"
        }
      },
      "execution_count": null,
      "outputs": [
        {
          "output_type": "stream",
          "name": "stdout",
          "text": [
            "Temperatura máxima: 28\n",
            "Temperatura mínima: 25\n",
            "Umidade máxima: 45\n",
            "Umidade mínima: 35\n",
            "Temperatura média: 26.70\n",
            "Temperatura mediana: 27.00\n",
            "Umidade média: 40.80\n",
            "Umidade mediana: 43.00\n"
          ]
        }
      ]
    },
    {
      "cell_type": "code",
      "source": [
        "show = sns.lineplot(data=bd, x=bd.index, y='Temperatura')\n",
        "show.set(xlabel='Tempo')\n",
        "plt.show()"
      ],
      "metadata": {
        "id": "7vXFs8ql0nJj",
        "outputId": "2395827f-3504-42f1-a289-b2f8364a7e08",
        "colab": {
          "base_uri": "https://localhost:8080/",
          "height": 449
        }
      },
      "execution_count": null,
      "outputs": [
        {
          "output_type": "display_data",
          "data": {
            "text/plain": [
              "<Figure size 640x480 with 1 Axes>"
            ],
            "image/png": "[encoded data removed]"
          },
          "metadata": {}
        }
      ]
    },
    {
      "cell_type": "code",
      "source": [
        "show = sns.lineplot(data=bd, x=bd.index, y='Umidade')\n",
        "show.set(xlabel='Tempo')\n",
        "plt.show()"
      ],
      "metadata": {
        "id": "LqvZd6Eq1E6N",
        "outputId": "05889a0e-fda0-4c78-9a71-ccb573f3649f",
        "colab": {
          "base_uri": "https://localhost:8080/",
          "height": 449
        }
      },
      "execution_count": null,
      "outputs": [
        {
          "output_type": "display_data",
          "data": {
            "text/plain": [
              "<Figure size 640x480 with 1 Axes>"
            ],
            "image/png": "[encoded data removed]"
          },
          "metadata": {}
        }
      ]
    },
    {
      "cell_type": "code",
      "execution_count": null,
      "metadata": {
        "id": "VM90CST65D8g",
        "colab": {
          "base_uri": "https://localhost:8080/",
          "height": 449
        },
        "outputId": "52dfad06-759b-48db-8781-f77c262e4f4d"
      },
      "outputs": [
        {
          "output_type": "display_data",
          "data": {
            "text/plain": [
              "<Figure size 640x480 with 1 Axes>"
            ],
            "image/png": "[encoded data removed]"
          },
          "metadata": {}
        }
      ],
      "source": [
        "# Plot do gráfico importante\n",
        "sns.histplot(data=bd, x='Temperatura')\n",
        "plt.show()"
      ]
    },
    {
      "cell_type": "code",
      "source": [
        "sns.histplot(data=bd, x='Umidade')\n",
        "plt.show()"
      ],
      "metadata": {
        "id": "nuVyampLzOV0",
        "outputId": "e11ee7ab-f1b9-42c3-ee3e-a0753ae16ce9",
        "colab": {
          "base_uri": "https://localhost:8080/",
          "height": 449
        }
      },
      "execution_count": null,
      "outputs": [
        {
          "output_type": "display_data",
          "data": {
            "text/plain": [
              "<Figure size 640x480 with 1 Axes>"
            ],
            "image/png": "[encoded data removed]"
          },
          "metadata": {}
        }
      ]
    },
    {
      "cell_type": "markdown",
      "metadata": {
        "id": "XIGJiri_5D8g"
      },
      "source": [
        "### 💡 **Conclusões**\n",
        "\n",
        "A partir da pesquisa e do desenvolvimento do código acima, o objetivo de monitorar um ambiente controlado foi alcançado."
      ]
    },
    {
      "cell_type": "markdown",
      "metadata": {
        "id": "hD0nEUeA5D8h"
      },
      "source": [
        "### 📖 **Referências**\n",
        "\n",
        "\n",
        "\n",
        "### **Equipe**\n",
        "\n",
        "1. [Cauan Machado](https://github.com/cteimachDCOMP)\n",
        "2. [Gustavo Caldas](https://github.com/Gugu-debug)\n",
        "3. [Lucas Feitosa](https://github.com/LucasFe3152)\n",
        "4. [Michael Santos](https://github.com/ievykiw)\n",
        "5. [Túlio Gois](https://github.com/tuliosg)"
      ]
    }
  ],
  "metadata": {
    "language_info": {
      "name": "python"
    },
    "colab": {
      "provenance": []
    },
    "kernelspec": {
      "name": "python3",
      "display_name": "Python 3"
    }
  },
  "nbformat": 4,
  "nbformat_minor": 0
}