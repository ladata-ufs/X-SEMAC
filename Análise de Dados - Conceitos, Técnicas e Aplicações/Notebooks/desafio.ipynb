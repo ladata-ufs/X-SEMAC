{
 "cells": [
  {
   "cell_type": "markdown",
   "metadata": {},
   "source": [
    "<img src=\"https://github.com/ladata-ufs/IX-SEMAC/blob/main/id%20visual/logotipo-extenso-fundo-cinza.png?raw=true\" alt=\"ladata\" width=\"400\" align=\"center\"/>\n",
    "\n",
    "# **Análise de Dados: Conceitos, Técnicas e Aplicações**\n",
    "\n",
    "> Notebook desenvolvido para a Oficina \"Análise de Dados: Conceitos, Técnicas e Aplicações\", ministrada na X SEMAC da UFS.\n",
    "\n",
    "\n",
    "#### **Objetivos**: Propor um desafio de análise de dados para os participantes aprimorarem e exercitarem as ferramentas demonstradas na oficina.\n"
   ]
  },
  {
   "cell_type": "markdown",
   "metadata": {},
   "source": [
    "## 💻**Entendendo os dados**"
   ]
  },
  {
   "cell_type": "markdown",
   "metadata": {},
   "source": [
    "Um pré-requisito para toda análise é entender quais dados serão analisados, dito isso, use o link e leia a descrição de cada coluna.\n",
    "\n",
    " [Expectativa de vida](https://drive.google.com/file/d/1B6ZOfv6fD7GAWERv3WUG-40u1ZADKv6v/view?usp=drive_link)"
   ]
  },
  {
   "cell_type": "markdown",
   "metadata": {},
   "source": [
    "## **🛠 Tratamento**\n",
    "\n",
    "Nessa primeira etapa, importe os dados e aplique os tratamentos convenientes."
   ]
  },
  {
   "cell_type": "code",
   "execution_count": null,
   "metadata": {},
   "outputs": [],
   "source": []
  },
  {
   "cell_type": "markdown",
   "metadata": {},
   "source": [
    "## **🤔 Análise e Metodologia**\n",
    "\n",
    "Responda as perguntas e elabore gráficos para, pelo menos, metade delas:\n",
    "\n",
    "1. **Qual é a taxa média de mortalidade infantil para países desenvolvidos e em desenvolvimento?**\n",
    "2. **Quais são os fatores mais correlacionados com a expectativa de vida?**\n",
    "3. **Como o número de casos de sarampo varia entre países com diferentes níveis de vacinação?**\n",
    "4. **A taxa de mortalidade por HIV/AIDS é mais alta em países em desenvolvimento? Como isso afeta a expectativa de vida?**\n",
    "5. **Países com maior gasto público em saúde (percentual do PIB) têm uma expectativa de vida maior?**\n",
    "6. **Há uma relação entre o consumo de álcool e a mortalidade adulta?**\n",
    "7. **A mortalidade infantil é maior em países mais populosos?**\n",
    "8. **Como a expectativa de vida varia entre países desenvolvidos e em desenvolvimento?**\n",
    "9. **Como os indicadores de saúde (vacinação, mortalidade, magreza) mudaram ao longo dos anos para países em desenvolvimento?**\n",
    "10. **Como a imunização contra hepatite B e sarampo evoluiu ao longo dos anos em diferentes regiões?**\n",
    "\n",
    "A **Metodologia** é baseada em responder de maneira eficiente cada questão proposta, assim como melhorar suas visualizações através de figuras gráficas."
   ]
  },
  {
   "cell_type": "markdown",
   "metadata": {},
   "source": [
    "> Para facilitar na hora de discutir os resultados, caso já tenha afinidade, crie os gráficos em funções:"
   ]
  },
  {
   "cell_type": "code",
   "execution_count": null,
   "metadata": {},
   "outputs": [],
   "source": [
    "def GraficoQualquer():\n",
    "    plt.figure(figsize=(8,6))\n",
    "\n",
    "    sns.barplot(data=DATABASE, x='Coluna2', y='Coluna2', palette='magma')\n",
    "    \n",
    "    plt.setxlabel('NomeEixoX')\n",
    "    plt.setylabel('NomeEixoY')\n",
    "\n",
    "    plt.tight_layout()\n",
    "    plt.show()\n",
    "\n",
    "GraficoQualquer()"
   ]
  },
  {
   "cell_type": "markdown",
   "metadata": {},
   "source": [
    "## **📈 Resultados**\n",
    "\n",
    "Os resultados obtidos, em formato de gráficos, tabelas, ou o que seja esperado, mostrando o que foi desenvolvido no trecho de Análise"
   ]
  },
  {
   "cell_type": "code",
   "execution_count": null,
   "metadata": {},
   "outputs": [],
   "source": []
  }
 ],
 "metadata": {
  "kernelspec": {
   "display_name": "base",
   "language": "python",
   "name": "python3"
  },
  "language_info": {
   "codemirror_mode": {
    "name": "ipython",
    "version": 3
   },
   "file_extension": ".py",
   "mimetype": "text/x-python",
   "name": "python",
   "nbconvert_exporter": "python",
   "pygments_lexer": "ipython3",
   "version": "3.12.7"
  }
 },
 "nbformat": 4,
 "nbformat_minor": 2
}
