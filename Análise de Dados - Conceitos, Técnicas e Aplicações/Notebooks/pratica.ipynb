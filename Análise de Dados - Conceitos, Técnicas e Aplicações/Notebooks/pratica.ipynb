{
 "cells": [
  {
   "cell_type": "markdown",
   "metadata": {
    "id": "g5yhd-qjdkvp"
   },
   "source": [
    "<p align=\"center\">\n",
    "  <img src=\"https://github.com/ladata-ufs/IX-SEMAC/blob/main/id%20visual/logotipo-extenso-fundo-cinza.png?raw=true\" alt=\"ladata\" width=\"400\"/>\n",
    "</p>\n",
    "\n",
    "# **Análise de Dados: Conceitos, Técnicas e Aplicações**\n",
    "\n",
    "> Notebook desenvolvido para a Oficina \"Análise de Dados: Conceitos, Técnicas e Aplicações\", ministrada na X SEMAC da UFS.\n",
    "\n",
    "\n",
    "#### **Objetivo**: Oferecer um notebook que servirá como material para os participantes da oficina interagirem e entenderem os principais conceitos da análise de dados utilizando Python.\n"
   ]
  },
  {
   "cell_type": "markdown",
   "metadata": {
    "id": "g-D3nzd3dkvw"
   },
   "source": [
    "## 🔽 **Bibliotecas**\n",
    "\n",
    "Para esse projeto, as principais bibliotecas necessárias foram: [Pandas](https://pandas.pydata.org), [NumPy](https://numpy.org), [MatplotLib](https://matplotlib.org), [Seaborn](https://seaborn.pydata.org/) e [Scipy](https://docs.scipy.org/doc/scipy/)\n",
    "\n",
    "- **NumPy**: Biblioteca fundamental para cálculos numéricos, oferecendo suporte a arrays multidimensionais e operações matemáticas otimizadas para manipulação de grandes volumes de dados.\n",
    "\n",
    "- **Pandas**: Utilizada para análise e manipulação de dados, fornece estruturas como DataFrames e Series, facilitando o trabalho com dados tabulares e séries temporais.\n",
    "\n",
    "- **Matplotlib**: Biblioteca de visualização de dados que cria gráficos estáticos, interativos ou animados em Python, oferecendo controle detalhado sobre estilos e layouts.\n",
    "\n",
    "- **Seaborn**: Baseada no Matplotlib, simplifica a criação de gráficos estatísticos elegantes, com foco em análise exploratória e suporte a dados organizados em DataFrames.\n",
    "\n",
    "- **Scipy**: Biblioteca voltada para computação científica, oferece funções otimizadas para álgebra linear, integração, otimização, estatística e resolução de problemas matemáticos complexos, ampliando as capacidades do NumPy para análises avançadas."
   ]
  },
  {
   "cell_type": "code",
   "execution_count": null,
   "metadata": {
    "id": "MWaUiGsedkvz"
   },
   "outputs": [],
   "source": [
    "import numpy as np\n",
    "import pandas as pd\n",
    "import matplotlib.pyplot as plt\n",
    "import seaborn as sns"
   ]
  },
  {
   "cell_type": "markdown",
   "metadata": {
    "id": "vhvONeicdkv2"
   },
   "source": [
    "## 🐟 **Conceitos**"
   ]
  },
  {
   "cell_type": "markdown",
   "metadata": {
    "id": "Ew9Gpaemdkv4"
   },
   "source": [
    "#### **Series**\n",
    "\n",
    "Uma **Series** é uma estrutura de dados unidimensional da biblioteca `pandas`. Ela é essencialmente uma coluna de dados em um DataFrame ou uma lista indexada de valores. Cada valor em uma Series tem um índice associado, permitindo acesso rápido aos dados.\n",
    "\n",
    "Principais características:\n",
    "- Similar a uma lista ou vetor em outras linguagens.\n",
    "- Suporta diferentes tipos de dados.\n",
    "- Indexação automática ou personalizada.\n",
    "\n",
    "Abaixo está um exemplo de criação de uma Series.\n"
   ]
  },
  {
   "cell_type": "code",
   "execution_count": null,
   "metadata": {
    "id": "kUIpbHnGdkv6",
    "outputId": "7f267144-69da-4d3c-e094-0f67fc8d70c3"
   },
   "outputs": [],
   "source": [
    "# Criando uma Series a partir de uma lista\n",
    "idades = pd.Series([25, 30, 35], name='Idade')\n",
    "idades"
   ]
  },
  {
   "cell_type": "code",
   "execution_count": null,
   "metadata": {
    "id": "WPpbMKyIdkv9",
    "outputId": "fda0650f-386c-4a23-81ba-0cd25d44d22c"
   },
   "outputs": [],
   "source": [
    "# Criando uma Series a partir de um dicionário\n",
    "dic_pop = {\n",
    "    'São Paulo': 12.33,\n",
    "    'Rio de Janeiro': 6.75,\n",
    "    'Curitiba': 1.92\n",
    "}\n",
    "populacao = pd.Series(dic_pop, name='População (milhões)')\n",
    "populacao"
   ]
  },
  {
   "cell_type": "markdown",
   "metadata": {
    "id": "rrJR0Or7dkv_"
   },
   "source": [
    "### **DataFrame**\n",
    "\n",
    "Um **DataFrame** é uma estrutura de dados bidimensional em forma de tabela que faz parte da biblioteca `pandas`. Ele é composto por linhas e colunas, permitindo manipulação e análise de dados tabulares. Um DataFrame pode conter diferentes tipos de dados, como números, strings e valores booleanos.\n",
    "\n",
    "Principais características:\n",
    "- Estrutura semelhante a uma planilha de Excel ou tabela de banco de dados.\n",
    "- Indexação por rótulos ou números.\n",
    "- Colunas podem ter diferentes tipos de dados.\n",
    "\n",
    "Abaixo está um exemplo de criação de um DataFrame."
   ]
  },
  {
   "cell_type": "code",
   "execution_count": null,
   "metadata": {
    "id": "TXpuiDMhdkwC",
    "outputId": "a2b6d0d2-7ec2-4f29-998a-c0ab32363707"
   },
   "outputs": [],
   "source": [
    "# Criando um DataFrame a partir de um dicionário de listas\n",
    "data = {\n",
    "    'Nome': ['Ana', 'Bruno', 'Carla'],\n",
    "    'Idade': [25, 30, 35],\n",
    "    'Cidade': ['São Paulo', 'Rio de Janeiro', 'Curitiba']\n",
    "}\n",
    "df = pd.DataFrame(data)\n",
    "df"
   ]
  },
  {
   "cell_type": "markdown",
   "metadata": {
    "id": "o-SIax9ndkwF"
   },
   "source": [
    "## **🛠 Tratamento**\n",
    "\n",
    "Responsável pela parte da importação, limpeza e geração de objetos de análise."
   ]
  },
  {
   "cell_type": "code",
   "execution_count": null,
   "metadata": {
    "id": "zbnKfGetdkwH",
    "outputId": "b25536d2-abce-4ae9-b9cc-0388625e18d5"
   },
   "outputs": [],
   "source": [
    "# Opção de importação de dados no VSCODE (no Windows)\n",
    "# !curl -o vgvendas.csv \"https://raw.githubusercontent.com/ladata-ufs/X-SEMAC/refs/heads/main/An%C3%A1lise%20de%20Dados%20-%20Conceitos%2C%20T%C3%A9cnicas%20e%20Aplica%C3%A7%C3%B5es/Dados/vgvendas.csv\"\n",
    "# Opção de importação de dados no Colab (ou no VSCODE em Linux)\n",
    "!wget -O vgvendas.csv \"https://raw.githubusercontent.com/ladata-ufs/X-SEMAC/refs/heads/main/An%C3%A1lise%20de%20Dados%20-%20Conceitos%2C%20T%C3%A9cnicas%20e%20Aplica%C3%A7%C3%B5es/Dados/vgvendas.csv\"\n",
    "\n",
    "\n",
    "\n",
    "# Importação e primeira olhadela nos dados\n",
    "import pandas as pd\n",
    "db = pd.read_csv(\"vgvendas.csv\", decimal=\".\")\n",
    "db.head(3)"
   ]
  },
  {
   "cell_type": "code",
   "execution_count": null,
   "metadata": {
    "id": "3606WyuPdkwJ",
    "outputId": "acce6449-e566-40f7-932c-24f05ec3a28c"
   },
   "outputs": [],
   "source": [
    "# Para ver informações mais gerais sobre os dados\n",
    "# O info exibe todas as colunas, a contagem de valores não nulos e o tipo de dado\n",
    "db.info()"
   ]
  },
  {
   "cell_type": "markdown",
   "metadata": {
    "id": "68QHNhTgBxxR"
   },
   "source": [
    "#### Valores duplicados\n",
    "Em um conjunto de dados, um valor duplicado ocorre quando uma ou mais linhas contêm exatamente os mesmos valores em todas ou em algumas colunas, dependendo do contexto. A presença de duplicatas pode distorcer análises, especialmente quando os dados representam eventos únicos ou somatórios.\n",
    "\n",
    "Para identificar o número de linhas duplicadas, usamos:"
   ]
  },
  {
   "cell_type": "code",
   "execution_count": null,
   "metadata": {
    "id": "QLcp6hFwdkwL",
    "outputId": "d79631a0-3987-4dca-dc35-fd1a69608318"
   },
   "outputs": [],
   "source": [
    "# O duplicated() vai procurar linhas duplicadas e o sum() vai somar o número delas\n",
    "db.duplicated().sum()"
   ]
  },
  {
   "cell_type": "markdown",
   "metadata": {
    "id": "NyQJtexJBxxT"
   },
   "source": [
    "##### Opção 1: Marcar duplicadas para análise posterior"
   ]
  },
  {
   "cell_type": "code",
   "execution_count": null,
   "metadata": {
    "id": "yEGN_8p2BxxT",
    "outputId": "b9aca2ca-7139-4e08-9f54-d35663aeae53"
   },
   "outputs": [],
   "source": [
    "db_analise_dup = db.copy()\n",
    "db_analise_dup['duplicado'] = db.duplicated()\n",
    "db_analise_dup"
   ]
  },
  {
   "cell_type": "markdown",
   "metadata": {
    "id": "QL8j-LM7BxxR"
   },
   "source": [
    "##### Opção 2: Remover duplicadas"
   ]
  },
  {
   "cell_type": "markdown",
   "metadata": {
    "id": "lVBi4A6uP0KX"
   },
   "source": [
    "    Aqui, há algumas formas de usar a função drop_duplicates()"
   ]
  },
  {
   "cell_type": "markdown",
   "metadata": {
    "id": "yI6ke2TxBxxS"
   },
   "source": [
    "    Removendo todas as duplicatas"
   ]
  },
  {
   "cell_type": "code",
   "execution_count": null,
   "metadata": {
    "id": "yDMrmQIIBxxT",
    "outputId": "4078424e-b3bf-4d79-d52d-48a6c2050f32"
   },
   "outputs": [],
   "source": [
    "remove_duplicata3 = db.copy()\n",
    "remove_duplicata3.drop_duplicates(keep=False, inplace=True)\n",
    "remove_duplicata3.duplicated().sum()"
   ]
  },
  {
   "cell_type": "markdown",
   "metadata": {
    "id": "BSgL7KNeBxxS"
   },
   "source": [
    "    Mantendo o último registro:"
   ]
  },
  {
   "cell_type": "code",
   "execution_count": null,
   "metadata": {
    "id": "tE_AXuOgBxxS",
    "outputId": "27cc5c94-1292-4010-b117-ec36204ad931"
   },
   "outputs": [],
   "source": [
    "remove_duplicata2 = db.copy()\n",
    "remove_duplicata2.drop_duplicates(keep='last', inplace=True)\n",
    "remove_duplicata2.duplicated().sum()"
   ]
  },
  {
   "cell_type": "markdown",
   "metadata": {
    "id": "Zz6M9TJGBxxR"
   },
   "source": [
    "    Mantendo o primeiro registro (padrão):"
   ]
  },
  {
   "cell_type": "code",
   "execution_count": null,
   "metadata": {
    "id": "ze3qxJELBxxR",
    "outputId": "0ebd351f-9f20-4fe4-d9f0-cecbd22522b2"
   },
   "outputs": [],
   "source": [
    "db.drop_duplicates(keep='first', inplace=True)\n",
    "db.duplicated().sum()"
   ]
  },
  {
   "cell_type": "markdown",
   "metadata": {
    "id": "8EHKQowtBxxT"
   },
   "source": [
    "#### Valores nulos\n",
    "\n",
    "Em um dataset, um valor nulo representa a ausência de informação em uma célula. No pandas, eles geralmente aparecem como:\n",
    "\n",
    "- ``NaN`` (Not a Number): Usado para indicar valores numéricos ausentes.\n",
    "- ``None``: Usado para valores de tipo de dado de objeto (strings, por exemplo).\n",
    "\n",
    "Para checar a existência de valores nulos, utilizamos:"
   ]
  },
  {
   "cell_type": "code",
   "execution_count": null,
   "metadata": {
    "id": "s4ZUVz0GdkwN",
    "outputId": "b181defa-a36a-4c32-acdf-6b412df3a698"
   },
   "outputs": [],
   "source": [
    "# O isnull() retorna um DataFrame repleto de valores False e True e o sum() soma esses valores\n",
    "print(db.isnull().sum())\n",
    "# o resultado é uma Series com o número de entradas nulas em cada coluna\n",
    "type(db.isnull().sum())"
   ]
  },
  {
   "cell_type": "markdown",
   "metadata": {
    "id": "7o_K9LNldkwR"
   },
   "source": [
    "> *Caso queiramos somente os nomes das colunas*"
   ]
  },
  {
   "cell_type": "code",
   "execution_count": null,
   "metadata": {
    "id": "ltgWuh0bdkwQ",
    "outputId": "1733050d-555f-4281-a607-39ab70c075e7"
   },
   "outputs": [],
   "source": [
    "# A função any(), nesse contexto, serve para detectar qualquer coluna que tenha ao menos um valor nulo\n",
    "db.columns[db.isnull().any()].tolist()"
   ]
  },
  {
   "cell_type": "code",
   "execution_count": null,
   "metadata": {
    "id": "58i9MWLDBxxU",
    "outputId": "022a5075-ab2b-4e07-f7a8-f30638514e48"
   },
   "outputs": [],
   "source": [
    "# Exemplo de linha com valor nulo\n",
    "nulos = db[db.isnull().any(axis=1)]\n",
    "nulos.head(3)"
   ]
  },
  {
   "cell_type": "markdown",
   "metadata": {
    "id": "fGbeW7fQBxxU"
   },
   "source": [
    "##### Opção 1: Substituir (imputar)\n",
    "É possível substituir os valores ausentes com média, medianas ou outros valores pré-definidos (ver Opção 4)"
   ]
  },
  {
   "cell_type": "markdown",
   "metadata": {
    "id": "_sbmJwbMBxxU"
   },
   "source": [
    "    Substituição por média"
   ]
  },
  {
   "cell_type": "code",
   "execution_count": null,
   "metadata": {
    "id": "1mHnh5wgBxxU",
    "outputId": "6d715daa-6dd3-4ed8-854f-ce48c211c087"
   },
   "outputs": [],
   "source": [
    "db_subs_media = db.copy()\n",
    "db_subs_media['ano'] = db_subs_media['ano'].fillna(db_subs_media['ano'].mean())\n",
    "db_subs_media.iloc[nulos.index].head(3)"
   ]
  },
  {
   "cell_type": "markdown",
   "metadata": {
    "id": "AfCwmDxaBxxU"
   },
   "source": [
    "    Substituição por mediana"
   ]
  },
  {
   "cell_type": "code",
   "execution_count": null,
   "metadata": {
    "id": "aPQwqOQ_BxxU",
    "outputId": "b229117b-bcee-42be-8fef-9eaffdec8710"
   },
   "outputs": [],
   "source": [
    "db_subs_mediana = db.copy()\n",
    "db_subs_mediana['ano'] = db_subs_mediana['ano'].fillna(db_subs_mediana['ano'].median())\n",
    "db_subs_mediana.iloc[nulos.index].head(3)"
   ]
  },
  {
   "cell_type": "markdown",
   "metadata": {
    "id": "uoImboKyBxxV"
   },
   "source": [
    "##### Opção 2: Interpolar\n",
    "Muito útil para dados temporais ou contínuos, preenchendo valores ausentes com base nos vizinhos."
   ]
  },
  {
   "cell_type": "code",
   "execution_count": null,
   "metadata": {
    "id": "rgZd0Tg5BxxV",
    "outputId": "7b978b19-9346-46d0-dd15-627e43cdc351"
   },
   "outputs": [],
   "source": [
    "db_interpolado = db.copy()\n",
    "db_interpolado['ano'] = db_interpolado['ano'].interpolate()\n",
    "db_interpolado.iloc[nulos.index].head(3)"
   ]
  },
  {
   "cell_type": "markdown",
   "metadata": {
    "id": "i4L-DoSsBxxV"
   },
   "source": [
    "##### Opção 3: Remover as colunas\n",
    "Opção útil quando os valores ausentes são poucos ou quando a coluna não é essencial"
   ]
  },
  {
   "cell_type": "code",
   "execution_count": null,
   "metadata": {
    "id": "mDFD8iQjBxxV",
    "outputId": "3324e8eb-b9de-464d-b4ac-4158c068aa49"
   },
   "outputs": [],
   "source": [
    "db_sem_nulos = db.dropna()\n",
    "db_sem_nulos.iloc[nulos.index].head(3)"
   ]
  },
  {
   "cell_type": "markdown",
   "metadata": {
    "id": "scp0tGtmBxxV"
   },
   "source": [
    "##### Opção 4: Preencher com valores pré-estabelecidos"
   ]
  },
  {
   "cell_type": "code",
   "execution_count": null,
   "metadata": {
    "id": "VgtGBDBJdkwT",
    "outputId": "ace1a5dd-e9b2-4a53-f2a1-56eb6a420ca2"
   },
   "outputs": [],
   "source": [
    "# Aplicando o preenchimento\n",
    "for coluna in db.columns[db.isnull().any()].tolist():\n",
    "    if db[coluna].dtype == object:\n",
    "        db[coluna] = db[coluna].fillna('desconhecido')\n",
    "    else:\n",
    "        db[coluna] = db[coluna].fillna(-1)\n",
    "\n",
    "db.isnull().sum()"
   ]
  },
  {
   "cell_type": "code",
   "execution_count": null,
   "metadata": {
    "id": "OQeCoeGyBxxZ",
    "outputId": "a30520a0-8461-48c9-bf36-375a35004fab"
   },
   "outputs": [],
   "source": [
    "db.iloc[nulos.index].head(3)"
   ]
  },
  {
   "cell_type": "markdown",
   "metadata": {
    "id": "AojRBzjydkwV"
   },
   "source": [
    "## **🤔 Análise e Metodologia**\n",
    "\n",
    "Análise dos dados limpos com o objetivo de responder as seguintes perguntas:\n",
    "\n",
    "1. Quais os valores de média, mediana, variância, desvio padrão, mínimo e máximo de vendas globais?\n",
    "2. Quais são os gêneros de jogos mais populares em termos de vendas globais?\n",
    "3. Qual plataforma tem o maior número de jogos lançados? Isso se reflete nas vendas globais?\n",
    "4. Quais são os 5 jogos mais vendidos?\n",
    "5. Há diferenças significativas nas vendas entre regiões (América do Norte, Europa, Japão e outras regiões)?\n",
    "6. Os gêneros de jogos têm um impacto estatisticamente significativo nas vendas globais?\n",
    "7. Há uma diferença estatisticamente significativa entre as vendas médias de jogos lançados antes e depois de 2010?\n",
    "8. Quais são as plataformas com as maiores vendas globais e como elas se comparam entre si?\n",
    "9. Quais jogos geraram as maiores receitas globais e quais características eles compartilham?\n",
    "10. Existe uma relação entre o preço dos jogos e suas vendas globais?\n",
    "\n",
    "A **Metodologia** é baseada em: gerar gráficos para visualizar o comportamento das variáveis analisadas em cada questão."
   ]
  },
  {
   "cell_type": "markdown",
   "metadata": {
    "id": "iqRDOBZCdkwY"
   },
   "source": [
    "### **1. Quais os valores de média, mediana, variância, desvio padrão, mínimo e máximo de vendas globais?**\n",
    "> *Para essa resposta, é importante saber que já existem funções que calculam todos os itens solicitados:*"
   ]
  },
  {
   "cell_type": "code",
   "execution_count": null,
   "metadata": {
    "id": "m-POYjQ1dkwZ",
    "outputId": "76af28fd-dea0-4f13-c6af-7d0d3dc54860"
   },
   "outputs": [],
   "source": [
    "# Média\n",
    "db.global_vendas.mean()"
   ]
  },
  {
   "cell_type": "code",
   "execution_count": null,
   "metadata": {
    "id": "QQN2vyAHdkwa",
    "outputId": "1af4ab83-f751-427f-aaf1-5bc381d07b0c"
   },
   "outputs": [],
   "source": [
    "# Mediana\n",
    "db['global_vendas'].median()"
   ]
  },
  {
   "cell_type": "markdown",
   "metadata": {
    "id": "wBpWPJYPBxxa"
   },
   "source": [
    "    Variância: Mede o quanto os dados estão espalhados em relação à média. É a média dos quadrados das diferenças entre cada valor e a média.\n",
    "    A unidade da variância é o quadrado da unidade da variável de análise."
   ]
  },
  {
   "cell_type": "code",
   "execution_count": null,
   "metadata": {
    "id": "8mW0VNuhBxxa",
    "outputId": "43e7edd0-2f3b-46ee-8dad-f9ab15936383"
   },
   "outputs": [],
   "source": [
    "# variância\n",
    "db.global_vendas.var()"
   ]
  },
  {
   "cell_type": "markdown",
   "metadata": {
    "id": "BnsVVLC_Bxxb"
   },
   "source": [
    "    Desvio padrão: É a raiz quadrada da variância. Representa, em média, o quanto os valores se desviam da média.\n",
    "    A unidade do desvio padrão é a mesma da unidade da variável de análise."
   ]
  },
  {
   "cell_type": "code",
   "execution_count": null,
   "metadata": {
    "id": "O-V6IEyRdkwc",
    "outputId": "928b40a9-0e40-463a-9780-8e21a13bc176"
   },
   "outputs": [],
   "source": [
    "# Desvio Padrão\n",
    "db.global_vendas.std()"
   ]
  },
  {
   "cell_type": "code",
   "execution_count": null,
   "metadata": {
    "id": "es0FFfHzdkwe",
    "outputId": "eb15e9ba-97f0-44e8-ff51-f5071ce20d3a"
   },
   "outputs": [],
   "source": [
    "# Mínimo e máximo\n",
    "min = db.global_vendas.min()\n",
    "max =  db.global_vendas.max()\n",
    "min, max"
   ]
  },
  {
   "cell_type": "markdown",
   "metadata": {
    "id": "mShL1C50dkwg"
   },
   "source": [
    "#### **Boxplot**\n",
    "Uma boa maneira de visualizar algumas dessas métricas é através de um boxplot, vamos lá."
   ]
  },
  {
   "cell_type": "markdown",
   "metadata": {
    "id": "u7SFmY7DBxxb"
   },
   "source": [
    "Um boxplot é um resumo gráfico da distribuição de um conjunto de dados. Mostram a mediana, quartis (Q1 e Q3), amplitude interquartil (IQR) e outliers. Eles servem para comparar a distribuição de várias variáveis ou grupos, identificar outliers e avaliar a variabilidade dos dados."
   ]
  },
  {
   "cell_type": "code",
   "execution_count": null,
   "metadata": {
    "id": "_JaWdC7tBxxb",
    "outputId": "d1c7e989-0414-450c-b9b8-5b5b412bca3a"
   },
   "outputs": [],
   "source": [
    "def ex_boxplot():\n",
    "    # Exemplo de dados\n",
    "    valores = [10, 12, 11, 20, 22, 19, 30, 29, 31, 45, 58]\n",
    "\n",
    "    # Criar o boxplot horizontal\n",
    "    plt.figure(figsize=(8, 4))\n",
    "    sns.set_theme(style=\"whitegrid\")\n",
    "    sns.boxplot(x=valores, color='skyblue')  # Note que x é usado para boxplots horizontais\n",
    "\n",
    "    # Adicionar título e rótulo\n",
    "    plt.title(\"Boxplot Horizontal\", fontsize=14, fontweight='bold')\n",
    "    plt.xlabel(\"Valores\", fontsize=12)\n",
    "\n",
    "    # Mostrar o gráfico\n",
    "    plt.show()\n",
    "\n",
    "ex_boxplot()"
   ]
  },
  {
   "cell_type": "code",
   "execution_count": null,
   "metadata": {
    "id": "oasH_5vydkwh",
    "outputId": "a10b0c5e-62e5-4397-cb7f-479a7632c822"
   },
   "outputs": [],
   "source": [
    "def G01Q01(): # Gráfico 01 da Questão 01\n",
    "    plt.figure(figsize=(14,6))\n",
    "    ax = sns.boxplot(data=db, x='global_vendas')\n",
    "\n",
    "    plt.title('BoxPlot de Vendas Globais')\n",
    "    plt.xlabel('Vendas Globais (milhões de unidades)')\n",
    "\n",
    "    plt.show()\n",
    "\n",
    "G01Q01()"
   ]
  },
  {
   "cell_type": "markdown",
   "metadata": {
    "id": "Iy5tFu7fBxxc"
   },
   "source": [
    "**Dúvida: Por que esse boxplot ficou tão ruim?**"
   ]
  },
  {
   "cell_type": "markdown",
   "metadata": {
    "id": "gBS6MtAcdkwh"
   },
   "source": [
    "### **2. Quais são os gêneros de jogos mais populares em termos de vendas globais?**\n",
    "> *Para responder essa pergunta, basta selecionarmos as colunas gênero e vendas globais, agrupar as linhas do dataset em relação ao gênero e somarmos os valores de 'global_vendas' com mesmo gênero.*"
   ]
  },
  {
   "cell_type": "code",
   "execution_count": null,
   "metadata": {
    "id": "sMVrGFaSdkwi",
    "outputId": "e163fe98-aca8-4e27-c0b5-313d00b8d1d7"
   },
   "outputs": [],
   "source": [
    "generos_populares = db[['genero', 'global_vendas']].groupby('genero').sum().reset_index()\n",
    "generos_populares.sort_values(by='global_vendas',ascending=False, inplace=True)\n",
    "generos_populares"
   ]
  },
  {
   "cell_type": "markdown",
   "metadata": {
    "id": "sTNr-puni7-o"
   },
   "source": [
    "#### **Gráfico de Barras**"
   ]
  },
  {
   "cell_type": "markdown",
   "metadata": {
    "id": "7tj0AqHxBxxc"
   },
   "source": [
    "Dessa vez, tentemos um gráfico de barras"
   ]
  },
  {
   "cell_type": "code",
   "execution_count": null,
   "metadata": {
    "id": "LN556qwydkwj",
    "outputId": "1e96f17a-5abd-4bac-f0cb-78a3e1db1ecc"
   },
   "outputs": [],
   "source": [
    "def G01Q02():\n",
    "    plt.figure(figsize=(10,6))\n",
    "\n",
    "    ax = sns.barplot(data=generos_populares, x='genero', y='global_vendas', palette='magma')\n",
    "\n",
    "    plt.title('Vendas Globais por Gênero')\n",
    "    plt.ylabel('Vendas (milhões de unidades)')\n",
    "    plt.xlabel('Gênero')\n",
    "    plt.xticks(rotation=45)\n",
    "\n",
    "    plt.show()\n",
    "\n",
    "G01Q02()"
   ]
  },
  {
   "cell_type": "markdown",
   "metadata": {},
   "source": [
    "##### **E quais são os gêneros de jogos mais populares no Japão?**"
   ]
  },
  {
   "cell_type": "code",
   "execution_count": null,
   "metadata": {},
   "outputs": [],
   "source": []
  },
  {
   "cell_type": "markdown",
   "metadata": {
    "id": "QK-P8oIrdkwk"
   },
   "source": [
    "### **3. Qual plataforma tem o maior número de jogos lançados? Isso se reflete nas vendas globais?**"
   ]
  },
  {
   "cell_type": "markdown",
   "metadata": {
    "id": "pJiekymOBxxd"
   },
   "source": [
    "    Uma função muito útil para responder perguntas que envolvem contagens é a `value_counts()`. Ela contabiliza o número de registros (linhas) para os diversos valores existentes de em uma coluna. O que facilita a vida quando usada em dados categóricos."
   ]
  },
  {
   "cell_type": "code",
   "execution_count": null,
   "metadata": {
    "id": "GEmoIUrLBxxd",
    "outputId": "d6eb6c8f-c3e2-4921-c72e-8a1b04d154ff"
   },
   "outputs": [],
   "source": [
    "# Top 20 plataformas com mais jogos lançados\n",
    "plataformas_lancamentos = db['plataforma'].value_counts()\n",
    "\n",
    "top_20_plataformas = plataformas_lancamentos.head(20)\n",
    "top_20_plataformas"
   ]
  },
  {
   "cell_type": "markdown",
   "metadata": {
    "id": "gbFWEqkpBxxd"
   },
   "source": [
    "    Continuando a análise: isso se reflete nas vendas globais? Bom, para sabermos a resposta, devemos olhar quais as plataformas dos jogos com as maiores vendas globais"
   ]
  },
  {
   "cell_type": "code",
   "execution_count": null,
   "metadata": {
    "id": "pUOXWaz1Bxxd",
    "outputId": "aae4347b-3d21-4c4b-85c7-908e87148693"
   },
   "outputs": [],
   "source": [
    "# db[['plataforma', 'global_vendas']].groupby(by='plataforma').sum().reset_index().sort_values(by='global_vendas', ascending=False)\n",
    "# dividindo em partes\n",
    "\n",
    "# Secção do dataset\n",
    "plataformas_vendas = db[['plataforma', 'global_vendas']]\n",
    "plataformas_vendas\n"
   ]
  },
  {
   "cell_type": "code",
   "execution_count": null,
   "metadata": {
    "id": "733mr9_aBxxd",
    "outputId": "ae246854-6856-44d1-c4c9-c72e1cb5eee9"
   },
   "outputs": [],
   "source": [
    "# Agrupando os dados por plataforma e resetando o indíce (para voltar a ser um DataFrame - facilidade na hora de criar gráficos)\n",
    "plataformas_vendas = plataformas_vendas.groupby('plataforma').sum().reset_index() # Sem o sum() o resultado seria apenas um objeto de agrupamento\n",
    "plataformas_vendas"
   ]
  },
  {
   "cell_type": "code",
   "execution_count": null,
   "metadata": {
    "id": "7J3E9uD8Bxxd",
    "outputId": "33e5a755-6784-4112-94f2-a5eb2551fbe2"
   },
   "outputs": [],
   "source": [
    "# Ordenando os resultados e limitando a visualização\n",
    "plataformas_vendas.sort_values(by='global_vendas', ascending=False, inplace=True)\n",
    "plataformas_vendas.head(10)"
   ]
  },
  {
   "cell_type": "code",
   "execution_count": null,
   "metadata": {
    "id": "fBPzpynwBxxe",
    "outputId": "8d9dbff5-d75c-4129-c31c-d176a34ec86e"
   },
   "outputs": [],
   "source": [
    "# Ou somente\n",
    "db[['plataforma', 'global_vendas']].groupby(by='plataforma').sum().reset_index().sort_values(by='global_vendas', ascending=False).head(10)"
   ]
  },
  {
   "cell_type": "markdown",
   "metadata": {
    "id": "6A7AovEwBxxe"
   },
   "source": [
    "> Juntar dataframes: a função `merge()` é utilizada para juntar (mergear) dataframes, o que é muito útil em análises como essas, em que avaliamos dois ou mais aspectos diferentes (no nosso caso, número de unidades vendidas e quantidades de jogos lançados) de uma mesma coluna (no nosso caso, plataforma)."
   ]
  },
  {
   "cell_type": "code",
   "execution_count": null,
   "metadata": {
    "id": "k-IWZJfLBxxe",
    "outputId": "290bbeea-a1be-4112-b966-cadf61e8030b"
   },
   "outputs": [],
   "source": [
    "df_merge = plataformas_vendas.merge(plataformas_lancamentos, on='plataforma')\n",
    "df_merge.rename(columns={'count': 'numero_lancamentos'}, inplace=True)\n",
    "df_merge"
   ]
  },
  {
   "cell_type": "markdown",
   "metadata": {
    "id": "rpvoxGnQBxxe"
   },
   "source": [
    "#### **Gráfico de Barras Agrupadas**"
   ]
  },
  {
   "cell_type": "markdown",
   "metadata": {
    "id": "giDTO3IfBxxe"
   },
   "source": [
    "Como estamos analisando mais de uma variável quantitativa de uma mesma classe, um gráfico de barras agrupadas serve muito bem."
   ]
  },
  {
   "cell_type": "code",
   "execution_count": null,
   "metadata": {
    "id": "NSdGbgBnBxxe",
    "outputId": "2128f962-7fea-42a8-f9d4-fa7068ae0ded"
   },
   "outputs": [],
   "source": [
    "def G01Q03():\n",
    "    # Definindo a largura das barras e a posição das plataformas no eixo x\n",
    "    bar_width = 0.35\n",
    "    x = np.arange(len(df_merge))\n",
    "\n",
    "    fig, ax = plt.subplots(figsize=(12, 8))\n",
    "\n",
    "    # Barras para global_vendas\n",
    "    ax.bar(x - bar_width / 2, df_merge['global_vendas'], bar_width, color='b', label='Global Vendas')\n",
    "\n",
    "    # Barras para numero_lancamentos\n",
    "    ax.bar(x + bar_width / 2, df_merge['numero_lancamentos'], bar_width, color='g', label='Número de Lançamentos')\n",
    "\n",
    "    ax.set_title('Comparação de Vendas Globais e Número de Lançamentos por Plataforma')\n",
    "    ax.set_xlabel('Plataforma')\n",
    "    ax.set_ylabel('Valores')\n",
    "    ax.set_xticks(x)\n",
    "    ax.set_xticklabels(df_merge['plataforma'], rotation=45)\n",
    "    ax.legend(['Vendas Globais', 'Número de Lançamentos'])\n",
    "\n",
    "    fig.tight_layout()\n",
    "    plt.show()\n",
    "\n",
    "G01Q03()"
   ]
  },
  {
   "cell_type": "markdown",
   "metadata": {
    "id": "ql43G2T9Bxxe"
   },
   "source": [
    "### **4. Quais são os 5 jogos mais vendidos?**"
   ]
  },
  {
   "cell_type": "markdown",
   "metadata": {
    "id": "wlhcUaauBxxf"
   },
   "source": [
    "    Uma pergunta simples, pode ser resolvida com uma seleção de colunas."
   ]
  },
  {
   "cell_type": "code",
   "execution_count": null,
   "metadata": {
    "id": "9Nmv3KRgBxxf",
    "outputId": "7efb7772-48f5-4dd4-ca46-c99fc4857c43"
   },
   "outputs": [],
   "source": [
    "top_5_vendidos = db.sort_values(by='global_vendas',ascending=False).head(5)\n",
    "top_5_vendidos"
   ]
  },
  {
   "cell_type": "markdown",
   "metadata": {
    "id": "6e-Dw-voBxxf"
   },
   "source": [
    "#### **Gráfico de Pizza**"
   ]
  },
  {
   "cell_type": "markdown",
   "metadata": {
    "id": "iG8iobt4Bxxf"
   },
   "source": [
    "Como há poucos dados, um gráfico de pizza pode ser conveniente para entender como se distribuem as vendas dos top 5 jogos mais vendidos. Mais uma vez, a porcentagem é calculada em cima do total de vendas **somente do top 5 jogos mais vendidos**"
   ]
  },
  {
   "cell_type": "code",
   "execution_count": null,
   "metadata": {
    "id": "ER56LGWZBxxf",
    "outputId": "b27fc6c1-3bf4-43df-de35-a59582f86af9"
   },
   "outputs": [],
   "source": [
    "def G01Q04():\n",
    "    plt.figure(figsize=(8, 8))\n",
    "    explode = [1,0,0,0,0] # Destaque para algumas fatias\n",
    "    colors = sns.color_palette('pastel')[0:5] # Cores\n",
    "    plt.pie(\n",
    "        top_5_vendidos[\"global_vendas\"],\n",
    "        labels=top_5_vendidos[\"nome_jogo\"],\n",
    "        autopct='%1.1f%%',  # Mostra porcentagens com 1 casa decimal\n",
    "        startangle=140,  # Ângulo inicial para evitar sobreposição\n",
    "        colors=colors,\n",
    "        explode=explode\n",
    "    )\n",
    "    plt.title('Top 5 Jogos Mais Vendidos')\n",
    "    plt.show()\n",
    "\n",
    "G01Q04()"
   ]
  },
  {
   "cell_type": "markdown",
   "metadata": {},
   "source": [
    "##### **E quais são os 5 jogos menos vendidos?**"
   ]
  },
  {
   "cell_type": "code",
   "execution_count": null,
   "metadata": {},
   "outputs": [],
   "source": []
  },
  {
   "cell_type": "markdown",
   "metadata": {
    "id": "UmrYtnZSBxxf"
   },
   "source": [
    "### **5. Há diferenças significativas nas vendas entre regiões (América do Norte, Europa, Japão e outras regiões)?**"
   ]
  },
  {
   "cell_type": "markdown",
   "metadata": {
    "id": "Dp4BpZz5Bxxf"
   },
   "source": [
    "Para responder a essa pergunta, podemos utilizar o agrupamento de regiões dentro do df:"
   ]
  },
  {
   "cell_type": "code",
   "execution_count": null,
   "metadata": {
    "id": "-QONW154Bxxf",
    "outputId": "0d7a175a-e73e-4c5e-ae73-15bda21ea97b"
   },
   "outputs": [],
   "source": [
    "\n",
    "# Calculando a média de vendas em cada região\n",
    "regioes = ['NA_vendas', 'EU_vendas', 'JP_vendas', 'outras_vendas']\n",
    "regioes_med = {regiao: db[regiao].mean() for regiao in regioes}\n",
    "\n",
    "def regioes_med_print():\n",
    "    print(\"Média de vendas por região:\")\n",
    "    for regiao, med in regioes_med.items():\n",
    "        print(f\"{regiao}: {med:.2f}\")\n",
    "\n",
    "regioes_med_print()\n"
   ]
  },
  {
   "cell_type": "markdown",
   "metadata": {
    "id": "NrM3d12XP0Kl"
   },
   "source": [
    "Para testar, estatisticamente, se as médias de vendas diferem significativamente entre as regiões, podemos usar uma Análise de Variância (ANOVA). \n",
    "A Análise de Variância (ANOVA) é um método estatístico usado para comparar as médias de dois ou mais grupos e determinar se há diferenças estatisticamente significativas entre elas. A ANOVA pode ser realizada com o pacote scipy usando a função f_oneway.\n",
    "\n",
    "Etapas básicas para realizar uma ANOVA em python:\n",
    "- Organizar os dados: Separação dos valores das variáveis em grupos distintos.\n",
    "- Realizar o teste: Utilização scipy.stats.f_oneway(grupo1, grupo2, ...) para comparar as médias.\n",
    "- Interpretar os resultados: O teste retorna dois valores - \n",
    "\n",
    "statistic: valor F (razão da variância entre grupos sobre a variância dentro dos grupos).\n",
    "\n",
    "p-value: se for menor que o nível de significância (ex.: 0.05), rejeitamos a hipótese de médias iguais.\n",
    "ANOVA assume que os dados seguem uma distribuição normal e possuem variâncias similares entre os grupos."
   ]
  },
  {
   "cell_type": "code",
   "execution_count": null,
   "metadata": {
    "id": "qwvTnJNeP0Km",
    "outputId": "0300fc8a-2b9c-4749-e2c3-d73f94511663"
   },
   "outputs": [],
   "source": [
    "from scipy.stats import f_oneway\n",
    "\n",
    "# Extração dos dados de vendas para cada região\n",
    "na_vendas = db['NA_vendas']\n",
    "eu_vendas = db['EU_vendas']\n",
    "jp_vendas = db['JP_vendas']\n",
    "outras_vendas = db['outras_vendas']\n",
    "\n",
    "# Teste ANOVA\n",
    "anova_result = f_oneway(na_vendas, eu_vendas, jp_vendas, outras_vendas)\n",
    "\n",
    "# Resultados\n",
    "def anova1():\n",
    "    print(\"Resultados do teste ANOVA:\")\n",
    "    print(f\"F-Estatística: {anova_result.statistic:.4f}\")\n",
    "    print(f\"Valor-p: {anova_result.pvalue:.4f}\")\n",
    "\n",
    "    if anova_result.pvalue < 0.05:\n",
    "        print(\"Conclusão: Há diferenças estatisticamente significativas nas médias de vendas entre as regiões.\")\n",
    "    else:\n",
    "        print(\"Conclusão: Não há diferenças estatisticamente significativas nas médias de vendas entre as regiões.\")\n",
    "\n",
    "anova1()"
   ]
  },
  {
   "cell_type": "markdown",
   "metadata": {
    "id": "urSu1iUTBxxg"
   },
   "source": [
    "### **6. Os gêneros de jogos têm um impacto estatisticamente significativo nas vendas globais? (Análise de variância - ANOVA pode ser usada para investigar se a média de vendas difere entre gêneros.)**"
   ]
  },
  {
   "cell_type": "code",
   "execution_count": null,
   "metadata": {
    "id": "i3NN9HS9Bxxg",
    "outputId": "27ac57ae-9815-4447-dc42-22bfa7484a50"
   },
   "outputs": [],
   "source": [
    "# Cálculo da média de vendas globais por gênero\n",
    "med_genero = db.groupby('genero')['global_vendas'].mean().sort_values(ascending=False)\n",
    "\n",
    "print(\"Média de vendas globais por gênero:\")\n",
    "print(med_genero)\n"
   ]
  },
  {
   "cell_type": "markdown",
   "metadata": {
    "id": "5_WiIAyVP0Km"
   },
   "source": [
    "Para verificar, estatisticamente, se as médias de vendas globais diferem entre gêneros, novamente utilizamos o teste ANOVA (uma via), pois estamos comparando múltiplos grupos (gêneros)."
   ]
  },
  {
   "cell_type": "code",
   "execution_count": null,
   "metadata": {
    "id": "0Dqn3qyIP0Km",
    "outputId": "4b7166c9-e6b3-4886-8971-8eac380b5fec"
   },
   "outputs": [],
   "source": [
    "# Separação das vendas globais por gênero\n",
    "generos_vendas = [db[db['genero'] == genero]['global_vendas'] for genero in db['genero'].unique()]\n",
    "\n",
    "# Teste ANOVA\n",
    "anova_result_genero = f_oneway(*generos_vendas)\n",
    "\n",
    "# Resultados\n",
    "def anova2():\n",
    "    print(\"\\nResultados do teste ANOVA para gêneros:\")\n",
    "    print(f\"F-Estatística: {anova_result_genero.statistic:.4f}\")\n",
    "    print(f\"Valor-p: {anova_result_genero.pvalue:.4f}\")\n",
    "\n",
    "    if anova_result_genero.pvalue < 0.05:\n",
    "        print(\"Conclusão: Há diferenças estatisticamente significativas nas médias de vendas globais entre os gêneros.\")\n",
    "    else:\n",
    "        print(\"Conclusão: Não há diferenças estatisticamente significativas nas médias de vendas globais entre os gêneros.\")\n",
    "\n",
    "anova2()"
   ]
  },
  {
   "cell_type": "markdown",
   "metadata": {
    "id": "NokT4gf7Bxxg"
   },
   "source": [
    "### **7. Há uma diferença estatisticamente significativa entre as vendas médias de jogos lançados antes e depois de 2010? (Pode ser feita uma análise de teste de hipóteses, como o teste t de médias.)**"
   ]
  },
  {
   "cell_type": "code",
   "execution_count": null,
   "metadata": {
    "id": "zATn2fJ9Bxxg",
    "outputId": "c042d044-6ece-430e-ef6a-18ac6301440e"
   },
   "outputs": [],
   "source": [
    "# Separando jogos antes e depois de 2010\n",
    "antes_2010 = db[db['ano'] <= 2010]['global_vendas']\n",
    "depois_2010 = db[db['ano'] > 2010]['global_vendas']\n",
    "\n",
    "# Calculando a média de vendas\n",
    "media_antes = antes_2010.mean()\n",
    "media_depois = depois_2010.mean()\n",
    "\n",
    "print(f\"Média de vendas antes de 2010: {media_antes:.2f}\")\n",
    "print(f\"Média de vendas depois de 2010: {media_depois:.2f}\")\n"
   ]
  },
  {
   "cell_type": "markdown",
   "metadata": {
    "id": "Vx2W4qoTP0Kn"
   },
   "source": [
    "Aqui, utilizamos um teste t-Student para amostras independentes, que é ideal para comparar duas médias."
   ]
  },
  {
   "cell_type": "code",
   "execution_count": null,
   "metadata": {
    "id": "j745fkrmP0Kn",
    "outputId": "70d3e44c-fee6-4a40-a9f6-a15fe7120048"
   },
   "outputs": [],
   "source": [
    "from scipy.stats import ttest_ind\n",
    "\n",
    "# Separação dos jogos antes e depois de 2010\n",
    "antes_2010 = db[db['ano'] <= 2010]['global_vendas']\n",
    "depois_2010 = db[db['ano'] > 2010]['global_vendas']\n",
    "\n",
    "# Teste t para comparar as médias antes e depois de 2010\n",
    "ttest_result = ttest_ind(antes_2010, depois_2010, equal_var=False)  # assume-se variâncias diferentes\n",
    "\n",
    "# Resultados\n",
    "def tteste():\n",
    "    print(\"\\nResultados do teste t para vendas antes e depois de 2010:\")\n",
    "    print(f\"T-Estatística: {ttest_result.statistic:.4f}\")\n",
    "    print(f\"Valor-p: {ttest_result.pvalue:.4f}\")\n",
    "\n",
    "    if ttest_result.pvalue < 0.05:\n",
    "        print(\"Conclusão: Há uma diferença estatisticamente significativa nas vendas médias antes e depois de 2010.\")\n",
    "    else:\n",
    "        print(\"Conclusão: Não há uma diferença estatisticamente significativa nas vendas médias antes e depois de 2010.\")\n",
    "\n",
    "tteste()\n"
   ]
  },
  {
   "cell_type": "markdown",
   "metadata": {
    "id": "ojwfXOl7Bxxg"
   },
   "source": [
    "### **8. Quais são as plataformas com as maiores vendas globais e como elas se comparam entre si?**"
   ]
  },
  {
   "cell_type": "code",
   "execution_count": null,
   "metadata": {
    "id": "fS9DC3l-Bxxg",
    "outputId": "d5facab0-4602-4cf9-b2fe-d30b5ee719b9"
   },
   "outputs": [],
   "source": [
    "# Calculando o total de vendas globais\n",
    "total_global_vendas = db['global_vendas'].sum()\n",
    "\n",
    "# Calculando as vendas globais por plataforma\n",
    "vendas_plataforma = db.groupby('plataforma')['global_vendas'].sum().sort_values(ascending=False)\n",
    "\n",
    "# Selecionando as 5 maiores\n",
    "top_5_plataformas = vendas_plataforma.head(5)\n",
    "top_5_porcentages = (top_5_plataformas / total_global_vendas) * 100\n",
    "\n",
    "print(\"Top 5 plataformas com as maiores vendas globais e suas porcentagens:\")\n",
    "for plataforma, vendas in top_5_plataformas.items():\n",
    "    print(f\"Plataforma: {plataforma} | Vendas Globais: {vendas:.2f} milhões | Porcentagem do Total: {top_5_porcentages[plataforma]:.2f}%\")\n"
   ]
  },
  {
   "cell_type": "markdown",
   "metadata": {
    "id": "pFftYpHgBxxh"
   },
   "source": [
    "#### **Gráfico de Pareto**"
   ]
  },
  {
   "cell_type": "markdown",
   "metadata": {
    "id": "2flMhG40Bxxh"
   },
   "source": [
    "O gráfico de Pareto combina um gráfico de colunas com uma linha acumulativa e é ótimo para destacar as plataformas que contribuem com a maior das vendas globais (princípio 80/20)."
   ]
  },
  {
   "cell_type": "code",
   "execution_count": null,
   "metadata": {
    "id": "lzh-OpUuBxxh",
    "outputId": "f774c0e3-0ff0-4dee-c068-9ae7ac65bf48"
   },
   "outputs": [],
   "source": [
    "def G01Q08():\n",
    "    # Separa valores e índice\n",
    "    indice = df_merge.plataforma.tolist()\n",
    "    valores = df_merge.global_vendas.tolist()\n",
    "\n",
    "    # Calcula a porcentagem acumulativa\n",
    "    porcentagem_cumulativa = np.cumsum(valores) / sum(valores) * 100\n",
    "\n",
    "    fig, ax = plt.subplots(figsize=(14, 8))\n",
    "\n",
    "    # Barras para número de jogos\n",
    "    ax.bar(indice, valores, color='skyblue', label='Vendas Globais')\n",
    "\n",
    "    # Linha acumulativa de percentual\n",
    "    ax2 = ax.twinx() # Define eixo secundário (o de barra cumulativa)\n",
    "    ax2.plot(indice, porcentagem_cumulativa, color='red', marker='o', label='Percentual Acumulado')\n",
    "    ax2.set_ylabel('Percentual Acumulado (%)')\n",
    "\n",
    "    # Adiciona linhas de referência em 80%\n",
    "    ax2.axhline(80, color='green', linestyle='--', linewidth=1) # desenha a linha\n",
    "    ax2.text(len(indice)-1, 80, '80%', color='green', ha='right', va='center') # desenha o texto\n",
    "\n",
    "    # Exibir legendas\n",
    "    ax.legend(loc='upper left')\n",
    "    ax2.legend(loc='upper right')\n",
    "\n",
    "    ax.set_title('Top 20 Plataformas por Vendas Globais')\n",
    "    ax.set_ylabel('Vendas Globais')\n",
    "    ax.set_xlabel('Plataformas')\n",
    "    plt.xticks(rotation=45)\n",
    "    plt.tight_layout()\n",
    "    plt.show()\n",
    "\n",
    "G01Q08()"
   ]
  },
  {
   "cell_type": "markdown",
   "metadata": {
    "id": "AdcwEAGABxxh"
   },
   "source": [
    "### **9. Quais jogos geraram as maiores receitas globais e quais características eles compartilham?**"
   ]
  },
  {
   "cell_type": "markdown",
   "metadata": {
    "id": "w0x9ZU6dBxxh"
   },
   "source": [
    "Para resolver isso, podemos utilizar o conceito de nlargest(), disponível para Series do Pandas, ele retorna os n maiores valores de uma coluna ou conjunto de dados, mantendo a ordem decrescente. É útil para rapidamente identificar os maiores elementos com base em um critério específico."
   ]
  },
  {
   "cell_type": "code",
   "execution_count": null,
   "metadata": {
    "id": "jKUyCsZzBxxh",
    "outputId": "42d6e070-384d-46b5-90a8-d92c6b6e52eb"
   },
   "outputs": [],
   "source": [
    "top_5_receitas = db.nlargest(5, 'receita_global')[['nome_jogo', 'genero', 'plataforma', 'receita_global', 'anos_desde_lancamento']]\n",
    "\n",
    "print(\"Jogos com maior receita global e suas características:\")\n",
    "print(top_5_receitas)"
   ]
  },
  {
   "cell_type": "markdown",
   "metadata": {},
   "source": [
    "##### **E quais jogos geraram as menores receitas globais?**"
   ]
  },
  {
   "cell_type": "code",
   "execution_count": null,
   "metadata": {},
   "outputs": [],
   "source": []
  },
  {
   "cell_type": "markdown",
   "metadata": {
    "id": "6ok9Xv9SBxxh"
   },
   "source": [
    "### **10. Existe uma relação entre o preço dos jogos e suas vendas globais?**"
   ]
  },
  {
   "cell_type": "markdown",
   "metadata": {
    "id": "KLR2k0h2Bxxh"
   },
   "source": [
    "Aqui utilizaremos o método .corr() no Pandas que calcula a correlação entre colunas numéricas do DataFrame, medindo a força e direção da relação linear (valores entre -1 e 1). Ele suporta métodos como pearson (padrão, mede a correlação linear entre duas variáveis, com valores entre -1 e 1), kendall (baseado em rankings, calcula a concordância entre dois conjuntos de dados) e spearman (também utiliza rankings, mas calcula a correlação como Pearson faria com dados ranqueados)."
   ]
  },
  {
   "cell_type": "code",
   "execution_count": null,
   "metadata": {
    "id": "aGP4aSXdBxxi",
    "outputId": "ed4d4672-ce8d-4b59-a355-fbe575ea7c98"
   },
   "outputs": [],
   "source": [
    "correlacao = db[['preco', 'global_vendas']].corr().iloc[0, 1]\n",
    "\n",
    "print(f\"Correlação entre preço e vendas globais: {correlacao:.4f}\")"
   ]
  },
  {
   "cell_type": "markdown",
   "metadata": {
    "id": "LdVbZb_gBxxi"
   },
   "source": [
    "#### **Heatmap**"
   ]
  },
  {
   "cell_type": "markdown",
   "metadata": {
    "id": "203-FBQ9Bxxi"
   },
   "source": [
    "Para visualizar melhor a correlação entre variáveis plotaremos um heatmap que é uma representação visual de dados em que valores são exibidos como cores, facilitando a identificação de padrões, correlações ou concentrações."
   ]
  },
  {
   "cell_type": "code",
   "execution_count": null,
   "metadata": {
    "id": "C07_QM8WBxxi",
    "outputId": "1e70f774-6090-4676-d8df-575d26d8fffb"
   },
   "outputs": [],
   "source": [
    "# Criando uma matriz de correlação\n",
    "matriz_corr = db[['preco', 'global_vendas']].corr()\n",
    "\n",
    "print(\"Matriz de correlação entre preço e vendas globais:\")\n",
    "print(matriz_corr)\n",
    "def G01Q10():\n",
    "  # Plotando um heatmap\n",
    "  plt.figure(figsize=(6, 4))\n",
    "  sns.heatmap(matriz_corr, annot=True, cmap=\"inferno\", fmt=\".4f\")\n",
    "  plt.title(\"Matriz de Correlação entre Preço e Vendas Globais\")\n",
    "  plt.show()"
   ]
  },
  {
   "cell_type": "markdown",
   "metadata": {},
   "source": [
    "##### **E quanto à relação entre preço dos jogos e suas posições no ranking?**"
   ]
  },
  {
   "cell_type": "code",
   "execution_count": null,
   "metadata": {},
   "outputs": [],
   "source": []
  },
  {
   "cell_type": "markdown",
   "metadata": {
    "id": "5m6J2JTqdkwl"
   },
   "source": [
    "## **📈 Resultados**"
   ]
  },
  {
   "cell_type": "markdown",
   "metadata": {
    "id": "Dccyr_sdBxxi"
   },
   "source": [
    "### **1. Quais os valores de média, mediana, variância, desvio padrão, mínimo e máximo de vendas globais?**"
   ]
  },
  {
   "cell_type": "markdown",
   "metadata": {
    "id": "jNwRESUmBxxj"
   },
   "source": [
    "Com valores que oscilam na faixa de **0.5374 ± 1.5550 milhões de unidades**, percebe-se que o desvio padrão é significativamente maior do que a média. Isso indica que os dados são altamente dispersos em torno da média, com valores que variam amplamente entre as observações. Essa grande dispersão reflete a existência de valores extremos no conjunto, o que pode ser observado pelos valores máximo e mínimo.\n",
    "\n",
    "A mediana, que é o ponto central do conjunto de dados, apresenta um valor de **0.17 milhões de unidades**, consideravelmente inferior à média. Esse contraste sugere que a distribuição dos dados é assimétrica e possivelmente enviesada à direita, com alguns valores muito elevados (outliers) influenciando a média para cima.\n",
    "\n",
    "Já a variância, calculada em **2.4181 milhões de unidades ao quadrado**, reforça a alta dispersão dos dados, mas por si só, tem pouca relevância prática devido à sua unidade estar ao quadrado. Nesse contexto, o desvio padrão é uma métrica mais interpretável para descrever a dispersão dos dados.\n",
    "\n",
    "Por fim, os valores mínimo e máximo variam de **0.01 milhões de unidades** a **impressionantes 82.74 milhões de unidades**. Essa grande amplitude ilustra a presença de valores extremos que aumentam significativamente a dispersão do conjunto de dados, sendo um ponto de atenção ao interpretar as métricas gerais."
   ]
  },
  {
   "cell_type": "markdown",
   "metadata": {
    "id": "dMgRSeakBxxj"
   },
   "source": [
    "> O boxplot dessa questão apresenta uma visualização muito pobre devido à grande variabilidade dos dados."
   ]
  },
  {
   "cell_type": "code",
   "execution_count": null,
   "metadata": {
    "id": "rYWXr_b2Bxxk",
    "outputId": "66ed9cc8-da81-4fc8-992d-ce0db152e180"
   },
   "outputs": [],
   "source": [
    "G01Q01()"
   ]
  },
  {
   "cell_type": "markdown",
   "metadata": {
    "id": "hV68Ee3KBxxk"
   },
   "source": [
    "### **2. Quais são os gêneros de jogos mais populares em termos de vendas globais?**"
   ]
  },
  {
   "cell_type": "markdown",
   "metadata": {
    "id": "LwDVnIivBxxk"
   },
   "source": [
    "Em termos de vendas globais, o gênero de ação apresenta o maior sucesso comercial (1751.18 milhões de unidades), seguido do gênero de esportes (1330.93 milhões unidades) e do gênero de tiro (1037.37 milhões de unidades). Com exceção desse top 3, nenhum gênero conseguiu bater a marca de 1 bilhão de unidades, o que indica a preferência global por gênero de jogos."
   ]
  },
  {
   "cell_type": "code",
   "execution_count": null,
   "metadata": {
    "id": "l4Mo-FimBxxk",
    "outputId": "beab4b9c-1b81-4f46-876a-24363c19860d"
   },
   "outputs": [],
   "source": [
    "generos_populares"
   ]
  },
  {
   "cell_type": "markdown",
   "metadata": {
    "id": "8-9h7TQdBxxk"
   },
   "source": [
    "> O gráfico de vendas globais por gênero demonstra a preferência global por jogos de ação e o baixo interesse por jogos de estratégia. Pelo fato do número de gêneros avaliados não ser grande (apenas 12) e não haver um gênero que destoe muito dos outros, o gráfico apresenta uma boa visualização e ótima escala."
   ]
  },
  {
   "cell_type": "code",
   "execution_count": null,
   "metadata": {
    "id": "Bc6I3p_LBxxl",
    "outputId": "9e08d046-a9b2-4b48-fb59-43d03ba07355"
   },
   "outputs": [],
   "source": [
    "G01Q02()"
   ]
  },
  {
   "cell_type": "markdown",
   "metadata": {
    "id": "55L_hzFKBxxl"
   },
   "source": [
    "### **3. Qual plataforma tem o maior número de jogos lançados? Isso se reflete nas vendas globais?**"
   ]
  },
  {
   "cell_type": "markdown",
   "metadata": {
    "id": "JeROJXnbBxxl"
   },
   "source": [
    "Discutir sobre essa pergunta se torna muito mais fácil se analisarmos primeiro o gráfico:"
   ]
  },
  {
   "cell_type": "code",
   "execution_count": null,
   "metadata": {
    "id": "1LeX7swFBxxl",
    "outputId": "2382f406-a919-4b4a-cb27-e6f6b886eaf2"
   },
   "outputs": [],
   "source": [
    "G01Q03()"
   ]
  },
  {
   "cell_type": "markdown",
   "metadata": {
    "id": "BZphZV8NBxxl"
   },
   "source": [
    "As plataformas PS2, X360 e PS3 se destacam, liderando tanto em vendas globais quanto em lançamentos, o que reflete seu grande sucesso comercial. Por outro lado, plataformas como *SP, DS e PS4 têm um número significativo de lançamentos**, mas suas vendas globais não atingem o mesmo nível de sucesso, sugerindo uma discrepância entre a quantidade de jogos e o impacto no mercado. Já plataformas como PSV, GEN e SCD apresentam números baixos em ambas as categorias, indicando menor popularidade e impacto. O **gráfico também evidencia que, em muitas plataformas, o número de lançamentos é maior que as vendas, indicando que mais jogos lançados não necessariamente se traduzem em maiores vendas.**"
   ]
  },
  {
   "cell_type": "markdown",
   "metadata": {
    "id": "_MPXrHSXBxxl"
   },
   "source": [
    "### **4. Quais são os 5 jogos mais vendidos?**"
   ]
  },
  {
   "cell_type": "markdown",
   "metadata": {
    "id": "QiRnBgWIBxxl"
   },
   "source": [
    "Os 5 jogos mais vendidos foram Wii Sports (82.74 milhões de unidades), Super Mario Bros (40.24 milhões de unidades), Mario Kart Wii (35.82 milhões de unidades), Wii Sports Resort (33.00 milhões de unidades) e Pokemon Red/Pokemon Blue (31.37 milhões de unidades)."
   ]
  },
  {
   "cell_type": "code",
   "execution_count": null,
   "metadata": {
    "id": "pLdwC_KrBxxm",
    "outputId": "5232000d-915a-47f8-b0c1-6c21b7365f79"
   },
   "outputs": [],
   "source": [
    "top_5_vendidos"
   ]
  },
  {
   "cell_type": "markdown",
   "metadata": {
    "id": "dSR7_p5nBxxm"
   },
   "source": [
    "Um ponto interessante a se destacar é que todos os jogos do top 5 mais vendidos têm a mesma editora."
   ]
  },
  {
   "cell_type": "markdown",
   "metadata": {
    "id": "ohcm_6X1Bxxm"
   },
   "source": [
    "> O gráfico construído aqui tem mais um intuito demonstrativo, visto que gráficos de pizza devem ser utilizados com cautela...\n",
    "Também é importante lembrar que as porcentagens calculadas refletem o total de vendas somente dos top 5 jogos mais vendidos."
   ]
  },
  {
   "cell_type": "code",
   "execution_count": null,
   "metadata": {
    "id": "oO-gQmQUBxxm",
    "outputId": "2705c6a1-0f8d-456c-e949-2ca8ec5b8ac1"
   },
   "outputs": [],
   "source": [
    "G01Q04()"
   ]
  },
  {
   "cell_type": "markdown",
   "metadata": {
    "id": "iz75rmHVBxxm"
   },
   "source": [
    "### **5. Há diferenças significativas nas vendas entre regiões (América do Norte, Europa, Japão e outras regiões)?**"
   ]
  },
  {
   "cell_type": "code",
   "execution_count": null,
   "metadata": {
    "id": "z2i8NS3eBxxm",
    "outputId": "5b1b61c2-83d5-43a5-e9fe-4c20cf88e86b"
   },
   "outputs": [],
   "source": [
    "regioes_med_print()\n",
    "print()\n",
    "anova1()"
   ]
  },
  {
   "cell_type": "markdown",
   "metadata": {
    "id": "4_lMbP1iBxxn"
   },
   "source": [
    "Com base nos resultados apresentados, podemos observar diferenças estatisticamente significativas nas médias de vendas entre as regiões, conforme confirmado pelo **teste ANOVA (F = 583.5131, p = 0.0000)**. Isso indica que as diferenças observadas nas médias regionais de vendas não são aleatórias e refletem características distintas de cada mercado.\n",
    "\n",
    "A **América do Norte lidera com uma média de 0.264 milhões de unidades vendidas**, refletindo a forte demanda e a presença de grandes empresas de videogame na região. A **Europa vem em segundo lugar, com 0.147 milhões de unidades em média**, uma participação expressiva, mas ainda distante da América do Norte, possivelmente devido à diversidade de mercados e idiomas. **O Japão, que teve uma média de 0.078 milhões de unidades**, apesar de ser um mercado tradicionalmente importante, tem uma participação menor, o que pode ser atribuído à preferência por jogos locais e à saturação do mercado. Por fim, as **outras regiões representam 0.048 milhões de unidades em média**, refletindo mercados menores ou em crescimento.\n",
    "\n",
    "Esses resultados confirmam que os mercados regionais são distintos em termos de demanda, e que estratégias personalizadas podem ser necessárias para maximizar o desempenho de vendas em cada uma delas. A análise reforça a importância de compreender as características culturais e econômicas de cada região para otimizar o alcance e o impacto das estratégias de marketing e distribuição."
   ]
  },
  {
   "cell_type": "markdown",
   "metadata": {
    "id": "OoX0_-jbCvjp"
   },
   "source": [
    "### **6. Os gêneros de jogos têm um impacto estatisticamente significativo nas vendas globais?**"
   ]
  },
  {
   "cell_type": "code",
   "execution_count": null,
   "metadata": {
    "id": "LLcoLqV_DMfW",
    "outputId": "b3304480-58d9-442a-c110-aaeffa0076ac"
   },
   "outputs": [],
   "source": [
    "print(med_genero)\n",
    "print()\n",
    "anova2()"
   ]
  },
  {
   "cell_type": "markdown",
   "metadata": {
    "id": "lWfojlePDOBl"
   },
   "source": [
    "Com base nos resultados do teste **ANOVA (F = 18.2182, p = 0.0000)**, confirmamos que há diferenças estatisticamente significativas nas médias de vendas globais entre os gêneros. Isso indica que a popularidade dos jogos varia de forma consistente dependendo do gênero, refletindo diferentes níveis de aceitação ou demanda no mercado.\n",
    "\n",
    "O gênero **\"Platform\"** lidera com uma **média de 0.938 milhões de unidades vendidas**, destacando-se como o mais lucrativo. Isso sugere uma preferência clara por jogos que envolvem deslocamento em plataformas, correndo e pulando entre obstáculos, um estilo tradicionalmente popular entre os gamers. Seguindo o ranking, os gêneros **\"Shooter\" (0.791 milhões)** e **\"Role-Playing\" (0.623 milhões)** também se mostram altamente relevantes, refletindo a popularidade consistente de jogos que oferecem uma experiência imersiva e desafiadora, seja por meio de combates ou histórias envolventes.\n",
    "\n",
    "**\"Racing\" (0.586 milhões)** e **\"Sports\" (0.567 milhões)** completam a lista dos gêneros mais bem-sucedidos, sugerindo que jogos que simulam atividades reais, como esportes ou corridas, também atraem uma audiência ampla. Por outro lado, gêneros como **\"Adventure\" (0.186 milhões)** e **\"Strategy\" (0.257 milhões)** apresentam as menores médias de vendas, indicando uma demanda relativamente limitada por jogos que dependem mais de enredo ou planejamento estratégico."
   ]
  },
  {
   "cell_type": "markdown",
   "metadata": {
    "id": "rmudKBulDgk1"
   },
   "source": [
    "### **7. Há uma diferença estatisticamente significativa entre as vendas médias de jogos lançados antes e depois de 2010?**"
   ]
  },
  {
   "cell_type": "code",
   "execution_count": null,
   "metadata": {
    "id": "gIgbWZ3fDjQ3",
    "outputId": "b877f2c7-1ed3-4ccd-9f53-34555f46c776"
   },
   "outputs": [],
   "source": [
    "print(f\"Média de vendas antes de 2010: {media_antes:.2f}\")\n",
    "print(f\"Média de vendas depois de 2010: {media_depois:.2f}\")\n",
    "print()\n",
    "tteste()"
   ]
  },
  {
   "cell_type": "markdown",
   "metadata": {
    "id": "H_CrV6UlDm0l"
   },
   "source": [
    "Com os resultados obtidos, incluindo a T-Estatística de 2.4538 e o valor-p de 0.0142, confirmamos que há uma diferença estatisticamente significativa nas vendas médias antes e depois de 2010. Apesar disso, a diferença prática entre as médias é modesta, com valores de 0.55 milhões de unidades antes de 2010 e 0.49 milhões de unidades depois de 2010, representando uma redução de cerca de 6%.\n",
    "\n",
    "Esses resultados indicam que, embora a significância estatística sugira uma mudança no comportamento das vendas entre os dois períodos, a diferença real nas médias não é tão expressiva. Isso sugere que, após 2010, a demanda por jogos não cresceu de maneira relevante e permaneceu relativamente estável. Essa estabilização pode refletir um mercado maduro, onde novos lançamentos e avanços tecnológicos na produção e design de jogos não foram suficientes para atrair novos públicos ou expandir significativamente a base de consumidores."
   ]
  },
  {
   "cell_type": "markdown",
   "metadata": {
    "id": "NVJS3BYNDt4u"
   },
   "source": [
    "### **8. Quais são as plataformas com as maiores vendas globais e como elas se comparam entre si?**"
   ]
  },
  {
   "cell_type": "code",
   "execution_count": null,
   "metadata": {
    "id": "dqcqFO7IDyKd",
    "outputId": "5797d91a-f443-4a0d-dc1e-dc0e33fc9a3b"
   },
   "outputs": [],
   "source": [
    "G01Q08()"
   ]
  },
  {
   "cell_type": "markdown",
   "metadata": {
    "id": "zz9JEPG-D3Rh"
   },
   "source": [
    "O top 5 plataformas com maiores vendas globais foi: PS2, X360, PS3, Wii e DS. Podemos notar que juntas elas são responsáveis por 55,42% das vendas globais. Possíveis questionamentos que podemos fazer e investigar é: por que a maioria das vendas são concentradas dentro dessas plataformas? Como estender esse resultado para as outras? Existe alguma ação de marketing por trás do sucesso que podemos aplicar para as plataformas menos rentáveis?"
   ]
  },
  {
   "cell_type": "markdown",
   "metadata": {
    "id": "bFT1YfwDEAUd"
   },
   "source": [
    "### **9. Quais jogos geraram as maiores receitas globais e quais características eles compartilham?**"
   ]
  },
  {
   "cell_type": "code",
   "execution_count": null,
   "metadata": {
    "id": "wb-GzkcND_0L",
    "outputId": "75f7ffa7-1fcd-47bc-97fd-98bc13e80afa"
   },
   "outputs": [],
   "source": [
    "print(top_5_receitas)"
   ]
  },
  {
   "cell_type": "markdown",
   "metadata": {
    "id": "mwr7QztVEGRO"
   },
   "source": [
    "O jogo mais vendido é de esportes, mas podemos perceber que no top 5 só aparece ele desse gênero. Nota-se que a plataforma para qual foram produzidos é mesma para o terceiro e quarto lugar nessa classificação, indicando que jogos feitos para Wii têm sucesso, mas não mantém a consistência necessária para dominar o cenário entre as plataformas já que na questão anterior vimos que quem domina as vendas globais são jogos feitos para PS2."
   ]
  },
  {
   "cell_type": "markdown",
   "metadata": {
    "id": "zrZ4JgGAEIac"
   },
   "source": [
    "### **10. Existe uma relação entre o preço dos jogos e suas vendas globais?**"
   ]
  },
  {
   "cell_type": "code",
   "execution_count": null,
   "metadata": {
    "id": "Epk2xoCsEKvj",
    "outputId": "d138f95d-dce7-44ec-fb3c-c9e98a129e60"
   },
   "outputs": [],
   "source": [
    "G01Q10()"
   ]
  },
  {
   "cell_type": "markdown",
   "metadata": {
    "id": "MRrdr2UXEYTe"
   },
   "source": [
    "Pelo heatmap observamos que não existe correlação entre vendas e preço, o que não é intuitivo, já que imaginamos em primeiro momento que o público vá preferir produtos mais em conta. Porém, percebemos que as pessoas com interesse em jogos são mais seletivas em suas escolhas e prezam mais por qualidade do que quantidade. Isso pode ser útil na elobaração de estretégia de vendas dos produtos de cada plataforma."
   ]
  },
  {
   "cell_type": "markdown",
   "metadata": {
    "id": "nbBlyArAdkwn"
   },
   "source": [
    "## **💡 Conclusões**\n",
    "\n",
    "Ao longo deste notebook, tivemos como objetivo apresentar e ensinar conceitos básicos de análise de dados, utilizando um dataset de vendas de jogos como exemplo prático. Através das análises realizadas e das respostas às 10 perguntas propostas, conseguimos alcançar esse objetivo de forma clara e prática, proporcionando uma introdução sólida ao tema.\n",
    "\n",
    "Iniciamos explorando métricas fundamentais como média, mediana, variância e desvio padrão, compreendendo como elas descrevem a dispersão dos dados. Foi possível observar uma alta variabilidade nas vendas globais, destacando a relevância de considerar valores extremos (outliers) ao interpretar resultados. Avançamos para análises baseadas em categorias, identificando que gêneros de ação e esportes lideram as vendas globais, enquanto o gênero de estratégia apresenta menor apelo comercial. Já no caso das plataformas, foi possível perceber que maior número de lançamentos não garante maior sucesso comercial, como evidenciado por plataformas que, mesmo com muitos jogos lançados, não atingiram vendas expressivas.\n",
    "\n",
    "A introdução de técnicas estatísticas inferenciais, como ANOVA e teste t, permitiu investigar padrões mais profundos. Descobrimos que gêneros como Platform e Shooter apresentam maiores médias de vendas, indicando forte aceitação do público. Já as vendas de jogos antes e depois de 2010 apresentaram uma diferença estatisticamente significativa, mas com impacto prático modesto, reforçando a estabilidade na demanda ao longo do tempo. Por fim, a análise entre preço e vendas revelou ausência de correlação, sugerindo que o público gamer prioriza qualidade e experiência, muitas vezes optando por jogos de maior produção, independentemente do preço\n",
    "\n",
    "Por fim, as análises também trouxeram reflexões importantes sobre a concentração das vendas em poucas plataformas e títulos. Esse fenômeno levanta questões sobre como expandir o sucesso para outros segmentos e mercados, além de fornecer subsídios para a elaboração de estratégias de marketing voltadas a plataformas menos rentáveis.\n",
    "\n",
    "Com essas análises, foi possível demonstrar na prática como aplicar técnicas básicas de exploração e tratamento de dados, incluindo a identificação e o tratamento de outliers, o uso de gráficos para visualização e a aplicação de estatísticas descritivas e inferenciais. Dessa forma, acreditamos que o notebook cumpriu seu papel de introduzir os conceitos fundamentais de análise de dados e estimular reflexões sobre a aplicação prática desse conhecimento. Obrigado pela atenção e até a próxima!"
   ]
  },
  {
   "cell_type": "markdown",
   "metadata": {
    "id": "PzqYM84-dkwo"
   },
   "source": [
    "## **📖 Referências**\n",
    "Banco de dados disponível em: [Video Game Sales](https://www.kaggle.com/datasets/gregorut/videogamesales)\n",
    "\n",
    "Link do Material Didático disponível em: []()\n",
    "\n",
    "\n",
    "### Equipe:\n",
    "\n",
    "1. [Pedro Rocha](https://github.com/pedro-niHiL)\n",
    "2. [Kely Murta](https://github.com/kelymurta)\n",
    "3. [Eduarda Mascarenhas](https://github.com/dudxyz)"
   ]
  }
 ],
 "metadata": {
  "colab": {
   "provenance": []
  },
  "kernelspec": {
   "display_name": "base",
   "language": "python",
   "name": "python3"
  },
  "language_info": {
   "codemirror_mode": {
    "name": "ipython",
    "version": 3
   },
   "file_extension": ".py",
   "mimetype": "text/x-python",
   "name": "python",
   "nbconvert_exporter": "python",
   "pygments_lexer": "ipython3",
   "version": "3.12.3"
  }
 },
 "nbformat": 4,
 "nbformat_minor": 0
}
